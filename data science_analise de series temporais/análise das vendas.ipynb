{
 "cells": [
  {
   "cell_type": "markdown",
   "id": "b1506f56",
   "metadata": {},
   "source": [
    "# Análise das Vendas"
   ]
  },
  {
   "cell_type": "code",
   "execution_count": null,
   "id": "373a0f51",
   "metadata": {},
   "outputs": [],
   "source": [
    "import pandas as pd\n",
    "import seaborn as sns\n",
    "%matplotlib inline\n",
    "from matplotlib import pyplot as plt"
   ]
  },
  {
   "cell_type": "code",
   "execution_count": null,
   "id": "5b8f30bb",
   "metadata": {},
   "outputs": [],
   "source": [
    "dados = pd.read_csv('arquivos/alucar.csv')\n",
    "dados"
   ]
  },
  {
   "cell_type": "code",
   "execution_count": null,
   "id": "16b4adf9",
   "metadata": {},
   "outputs": [],
   "source": [
    "dados.dtypes"
   ]
  },
  {
   "cell_type": "code",
   "execution_count": null,
   "id": "afe69f0d",
   "metadata": {},
   "outputs": [],
   "source": [
    "dados['mes'] = pd.to_datetime(dados['mes'])"
   ]
  },
  {
   "cell_type": "code",
   "execution_count": null,
   "id": "8b33933c",
   "metadata": {},
   "outputs": [],
   "source": [
    "dados.dtypes"
   ]
  },
  {
   "cell_type": "code",
   "execution_count": null,
   "id": "aae69ee4",
   "metadata": {},
   "outputs": [],
   "source": [
    "sns.lineplot(x = 'mes', y = 'vendas', data = dados)"
   ]
  },
  {
   "cell_type": "code",
   "execution_count": null,
   "id": "f68a0eb6",
   "metadata": {},
   "outputs": [],
   "source": [
    "def plotar(título, labelx, labely, x, y, dataset):\n",
    "    grafico1 = sns.lineplot(x = x, y = y, data = dataset)\n",
    "    sns.set_palette('Accent')\n",
    "    sns.set_style('darkgrid')\n",
    "    grafico1.figure.set_size_inches(12, 6)\n",
    "    grafico1.set_title(título, loc = 'left', fontsize = 18)\n",
    "    grafico1.set_xlabel(labelx, fontsize = 14)\n",
    "    grafico1.set_ylabel(labely, fontsize = 14)\n",
    "    grafico1 = grafico1"
   ]
  },
  {
   "cell_type": "code",
   "execution_count": null,
   "id": "62ebdbf6",
   "metadata": {},
   "outputs": [],
   "source": [
    "plotar('Vendas de Carros de 2017 e 2018', 'Mês', 'Vendas (R$)', 'vendas', 'mes', dados)"
   ]
  },
  {
   "cell_type": "code",
   "execution_count": null,
   "id": "167fb21d",
   "metadata": {},
   "outputs": [],
   "source": [
    "dados['aumento'] = dados['vendas'].diff()"
   ]
  },
  {
   "cell_type": "code",
   "execution_count": null,
   "id": "c460665e",
   "metadata": {},
   "outputs": [],
   "source": [
    "dados"
   ]
  },
  {
   "cell_type": "code",
   "execution_count": null,
   "id": "8de2809b",
   "metadata": {},
   "outputs": [],
   "source": [
    "plotar('Aumento das Vendas de Carros de 2017 e 2018', 'Mês', 'Aumento', 'mes', 'aumento', dados)"
   ]
  },
  {
   "cell_type": "code",
   "execution_count": null,
   "id": "023b8586",
   "metadata": {},
   "outputs": [],
   "source": [
    "dados['aceleração'] = dados['aumento'].diff()\n",
    "dados"
   ]
  },
  {
   "cell_type": "code",
   "execution_count": null,
   "id": "39a0f917",
   "metadata": {},
   "outputs": [],
   "source": [
    "plotar('Aceleração das Vendas de Carros 2017 e 2018', 'Mês', 'Aceleração', 'mes', 'aceleração', dados)"
   ]
  },
  {
   "cell_type": "code",
   "execution_count": null,
   "id": "bacbf6c3",
   "metadata": {},
   "outputs": [],
   "source": [
    "plt.figure(figsize = (16,12))\n",
    "grafico1 = plt.subplot(3, 1, 1)\n",
    "grafico1.set_title('Análise de Vendas de Carros de 2017 e 2018', fontsize = 18, loc = 'left')\n",
    "sns.lineplot(x = 'mes', y = 'vendas', data = dados)\n",
    "plt.subplot(3, 1, 2)\n",
    "sns.lineplot(x = 'mes', y = 'aumento', data = dados)\n",
    "plt.subplot(3, 1, 3)\n",
    "sns.lineplot(x = 'mes', y = 'aceleração', data = dados)\n",
    "grafico1 = grafico1"
   ]
  },
  {
   "cell_type": "code",
   "execution_count": null,
   "id": "2ec32242",
   "metadata": {},
   "outputs": [],
   "source": [
    "def plot_comparacao(x, y1, y2, y3, dataset, título):\n",
    "    plt.figure(figsize = (16,12))\n",
    "    grafico1 = plt.subplot(3, 1, 1)\n",
    "    grafico1.set_title(título, fontsize = 18, loc = 'left')\n",
    "    sns.lineplot(x = x, y = y1, data = dataset)\n",
    "    plt.subplot(3, 1, 2)\n",
    "    sns.lineplot(x = x, y = y2, data = dataset)\n",
    "    plt.subplot(3, 1, 3)\n",
    "    sns.lineplot(x = x, y = y3, data = dataset)\n",
    "    grafico1 = grafico1"
   ]
  },
  {
   "cell_type": "code",
   "execution_count": null,
   "id": "3d7adc6b",
   "metadata": {},
   "outputs": [],
   "source": [
    "from pandas.plotting import autocorrelation_plot"
   ]
  },
  {
   "cell_type": "code",
   "execution_count": null,
   "id": "ecd38ce8",
   "metadata": {},
   "outputs": [],
   "source": [
    "plt.figure(figsize = (12, 6))\n",
    "autocorrelation_plot(dados['vendas'])\n",
    "grafico1 = grafico1"
   ]
  },
  {
   "cell_type": "code",
   "execution_count": null,
   "id": "e5e4047e",
   "metadata": {},
   "outputs": [],
   "source": [
    "plt.figure(figsize = (12, 6))\n",
    "autocorrelation_plot(dados['aumento'][1:])\n",
    "grafico1 = grafico1"
   ]
  },
  {
   "cell_type": "code",
   "execution_count": null,
   "id": "3fee27f3",
   "metadata": {},
   "outputs": [],
   "source": [
    "plt.figure(figsize = (12, 6))\n",
    "autocorrelation_plot(dados['aceleração'][2:])\n",
    "grafico1 = grafico1"
   ]
  },
  {
   "cell_type": "markdown",
   "id": "508ac828",
   "metadata": {},
   "source": [
    "# Análise de Assinantes da Newsletter"
   ]
  },
  {
   "cell_type": "code",
   "execution_count": null,
   "id": "c8bbbd25",
   "metadata": {},
   "outputs": [],
   "source": [
    "assinantes = pd.read_csv('arquivos/newsletter_alucar.csv')\n",
    "assinantes"
   ]
  },
  {
   "cell_type": "code",
   "execution_count": null,
   "id": "6af359e9",
   "metadata": {},
   "outputs": [],
   "source": [
    "assinantes.dtypes"
   ]
  },
  {
   "cell_type": "code",
   "execution_count": null,
   "id": "a141a34c",
   "metadata": {},
   "outputs": [],
   "source": [
    "print('Quantidade de linhas e colunas: ',assinantes.shape)\n",
    "print('Quantidade de dados nulos: ',assinantes.isna().sum().sum())"
   ]
  },
  {
   "cell_type": "code",
   "execution_count": null,
   "id": "ec147b3a",
   "metadata": {},
   "outputs": [],
   "source": [
    "assinantes['mes'] = pd.to_datetime(assinantes['mes'])\n",
    "assinantes.dtypes"
   ]
  },
  {
   "cell_type": "code",
   "execution_count": null,
   "id": "ab81e1e7",
   "metadata": {},
   "outputs": [],
   "source": [
    "assinantes['aumento'] = assinantes['assinantes'].diff()\n",
    "assinantes['aceleracao'] = assinantes['aumento'].diff()\n",
    "assinantes"
   ]
  },
  {
   "cell_type": "code",
   "execution_count": null,
   "id": "e04a93ef",
   "metadata": {},
   "outputs": [],
   "source": [
    "plot_comparacao('mes', 'assinantes', 'aumento', 'aceleracao', assinantes, 'Análise de assinantes da newsletter')"
   ]
  },
  {
   "cell_type": "code",
   "execution_count": null,
   "id": "b12f2639",
   "metadata": {},
   "outputs": [],
   "source": []
  }
 ],
 "metadata": {
  "kernelspec": {
   "display_name": "Python 3 (ipykernel)",
   "language": "python",
   "name": "python3"
  },
  "language_info": {
   "codemirror_mode": {
    "name": "ipython",
    "version": 3
   },
   "file_extension": ".py",
   "mimetype": "text/x-python",
   "name": "python",
   "nbconvert_exporter": "python",
   "pygments_lexer": "ipython3",
   "version": "3.9.13"
  }
 },
 "nbformat": 4,
 "nbformat_minor": 5
}
